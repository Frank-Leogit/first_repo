{
 "cells": [
  {
   "cell_type": "code",
   "execution_count": null,
   "metadata": {},
   "outputs": [],
   "source": [
    "# Buongiorno"
   ]
  },
  {
   "cell_type": "code",
   "execution_count": 2,
   "metadata": {},
   "outputs": [],
   "source": [
    "import pandas as pd"
   ]
  },
  {
   "cell_type": "code",
   "execution_count": 39,
   "metadata": {},
   "outputs": [],
   "source": [
    "df = pd.read_csv('energia.csv')\n",
    "df\n",
    "#df[\"Territorio\"] = df[\"Territorio\"].str.replace(\"Valle d'Aosta / Vallée d'Aoste\",\"Valle d'Aosta Vallée d'Aoste\")\n",
    "#df[\"Territorio\"] = df[\"Territorio\"].str.replace(\"Trentino Alto Adige / Südtirol\",\"Trentino Alto Adige Südtirol\")\n",
    "#df[\"Territorio\"] = df[\"Territorio\"].str.replace(\"Provincia Autonoma Bolzano / Bozen\",\"Provincia Autonoma Bolzano Bozen\")\n",
    "lista = df[\"Territorio\"].unique().tolist()\n",
    "diction = {\"Valle d'Aosta / Vallée d'Aoste\":\"Valle d'Aosta Vallée d'Aoste\",\n",
    "           \"Trentino Alto Adige / Südtirol\":\"Trentino Alto Adige Südtirol\",\n",
    "           \"Provincia Autonoma Bolzano / Bozen\":\"Provincia Autonoma Bolzano Bozen\"\n",
    "           }\n",
    "df = df.replace({\"Territorio\": diction})\n",
    "lista = df[\"Territorio\"].unique().tolist()\n",
    "#lista\n",
    "#lista.to_list()"
   ]
  },
  {
   "attachments": {},
   "cell_type": "markdown",
   "metadata": {},
   "source": [
    "# CSV"
   ]
  },
  {
   "cell_type": "code",
   "execution_count": 45,
   "metadata": {},
   "outputs": [],
   "source": [
    "\n",
    "for i in lista:\n",
    "    df[df['Territorio'] == i ].to_csv(f\"csv/parziale_{i}.csv\")\n",
    "    df[df['Territorio'] == i ].to_excel(f\"excel/parziale_{i}.xlsx\")"
   ]
  },
  {
   "attachments": {},
   "cell_type": "markdown",
   "metadata": {},
   "source": [
    "# EXCEL"
   ]
  },
  {
   "cell_type": "code",
   "execution_count": 48,
   "metadata": {},
   "outputs": [
    {
     "name": "stdout",
     "output_type": "stream",
     "text": [
      "questa è una:  palla\n",
      "questa è una: palla\n"
     ]
    }
   ],
   "source": []
  },
  {
   "cell_type": "code",
   "execution_count": null,
   "metadata": {},
   "outputs": [],
   "source": []
  }
 ],
 "metadata": {
  "kernelspec": {
   "display_name": "Python 3",
   "language": "python",
   "name": "python3"
  },
  "language_info": {
   "codemirror_mode": {
    "name": "ipython",
    "version": 3
   },
   "file_extension": ".py",
   "mimetype": "text/x-python",
   "name": "python",
   "nbconvert_exporter": "python",
   "pygments_lexer": "ipython3",
   "version": "3.9.7"
  },
  "orig_nbformat": 4
 },
 "nbformat": 4,
 "nbformat_minor": 2
}
